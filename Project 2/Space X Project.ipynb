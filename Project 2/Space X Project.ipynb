{
 "cells": [
  {
   "cell_type": "code",
   "execution_count": 1,
   "id": "52437cba",
   "metadata": {},
   "outputs": [],
   "source": [
    "import numpy as np\n",
    "import pandas as pd\n",
    "import matplotlib.pyplot as plt\n",
    "import seaborn as sns\n",
    "from sklearn.linear_model import LogisticRegression\n",
    "from sklearn.tree import DecisionTreeClassifier\n",
    "from sklearn.svm import SVC\n",
    "from sklearn.neighbors import KNeighborsClassifier\n",
    "from sklearn.ensemble import RandomForestClassifier\n",
    "from sklearn.ensemble import AdaBoostClassifier\n",
    "from sklearn.naive_bayes import GaussianNB\n",
    "from sklearn.model_selection import GridSearchCV\n",
    "\n",
    "from sklearn.metrics import ConfusionMatrixDisplay"
   ]
  },
  {
   "cell_type": "code",
   "execution_count": 2,
   "id": "8b4e8b3e",
   "metadata": {},
   "outputs": [],
   "source": [
    "data = pd.read_csv(\"dataset_preprocessed.csv\")"
   ]
  },
  {
   "cell_type": "code",
   "execution_count": 3,
   "id": "80fcf3bc",
   "metadata": {},
   "outputs": [
    {
     "data": {
      "text/html": [
       "<div>\n",
       "<style scoped>\n",
       "    .dataframe tbody tr th:only-of-type {\n",
       "        vertical-align: middle;\n",
       "    }\n",
       "\n",
       "    .dataframe tbody tr th {\n",
       "        vertical-align: top;\n",
       "    }\n",
       "\n",
       "    .dataframe thead th {\n",
       "        text-align: right;\n",
       "    }\n",
       "</style>\n",
       "<table border=\"1\" class=\"dataframe\">\n",
       "  <thead>\n",
       "    <tr style=\"text-align: right;\">\n",
       "      <th></th>\n",
       "      <th>PayloadMass</th>\n",
       "      <th>Flights</th>\n",
       "      <th>GridFins</th>\n",
       "      <th>Reused</th>\n",
       "      <th>Legs</th>\n",
       "      <th>Block</th>\n",
       "      <th>ReusedCount</th>\n",
       "      <th>Class</th>\n",
       "      <th>Orbit_GEO</th>\n",
       "      <th>Orbit_GTO</th>\n",
       "      <th>...</th>\n",
       "      <th>Serial_B1056</th>\n",
       "      <th>Serial_B1058</th>\n",
       "      <th>Serial_B1059</th>\n",
       "      <th>Serial_B1060</th>\n",
       "      <th>Serial_B1062</th>\n",
       "      <th>5e9e3032383ecb267a34e7c7</th>\n",
       "      <th>5e9e3032383ecb554034e7c9</th>\n",
       "      <th>5e9e3032383ecb6bb234e7ca</th>\n",
       "      <th>5e9e3032383ecb761634e7cb</th>\n",
       "      <th>5e9e3033383ecbb9e534e7cc</th>\n",
       "    </tr>\n",
       "  </thead>\n",
       "  <tbody>\n",
       "    <tr>\n",
       "      <th>0</th>\n",
       "      <td>6104.959412</td>\n",
       "      <td>1</td>\n",
       "      <td>0</td>\n",
       "      <td>0</td>\n",
       "      <td>0</td>\n",
       "      <td>1.0</td>\n",
       "      <td>0</td>\n",
       "      <td>0</td>\n",
       "      <td>0</td>\n",
       "      <td>0</td>\n",
       "      <td>...</td>\n",
       "      <td>0</td>\n",
       "      <td>0</td>\n",
       "      <td>0</td>\n",
       "      <td>0</td>\n",
       "      <td>0</td>\n",
       "      <td>0</td>\n",
       "      <td>0</td>\n",
       "      <td>0</td>\n",
       "      <td>0</td>\n",
       "      <td>0</td>\n",
       "    </tr>\n",
       "    <tr>\n",
       "      <th>1</th>\n",
       "      <td>525.000000</td>\n",
       "      <td>1</td>\n",
       "      <td>0</td>\n",
       "      <td>0</td>\n",
       "      <td>0</td>\n",
       "      <td>1.0</td>\n",
       "      <td>0</td>\n",
       "      <td>0</td>\n",
       "      <td>0</td>\n",
       "      <td>0</td>\n",
       "      <td>...</td>\n",
       "      <td>0</td>\n",
       "      <td>0</td>\n",
       "      <td>0</td>\n",
       "      <td>0</td>\n",
       "      <td>0</td>\n",
       "      <td>0</td>\n",
       "      <td>0</td>\n",
       "      <td>0</td>\n",
       "      <td>0</td>\n",
       "      <td>0</td>\n",
       "    </tr>\n",
       "    <tr>\n",
       "      <th>2</th>\n",
       "      <td>677.000000</td>\n",
       "      <td>1</td>\n",
       "      <td>0</td>\n",
       "      <td>0</td>\n",
       "      <td>0</td>\n",
       "      <td>1.0</td>\n",
       "      <td>0</td>\n",
       "      <td>0</td>\n",
       "      <td>0</td>\n",
       "      <td>0</td>\n",
       "      <td>...</td>\n",
       "      <td>0</td>\n",
       "      <td>0</td>\n",
       "      <td>0</td>\n",
       "      <td>0</td>\n",
       "      <td>0</td>\n",
       "      <td>0</td>\n",
       "      <td>0</td>\n",
       "      <td>0</td>\n",
       "      <td>0</td>\n",
       "      <td>0</td>\n",
       "    </tr>\n",
       "    <tr>\n",
       "      <th>3</th>\n",
       "      <td>500.000000</td>\n",
       "      <td>1</td>\n",
       "      <td>0</td>\n",
       "      <td>0</td>\n",
       "      <td>0</td>\n",
       "      <td>1.0</td>\n",
       "      <td>0</td>\n",
       "      <td>0</td>\n",
       "      <td>0</td>\n",
       "      <td>0</td>\n",
       "      <td>...</td>\n",
       "      <td>0</td>\n",
       "      <td>0</td>\n",
       "      <td>0</td>\n",
       "      <td>0</td>\n",
       "      <td>0</td>\n",
       "      <td>0</td>\n",
       "      <td>0</td>\n",
       "      <td>0</td>\n",
       "      <td>0</td>\n",
       "      <td>0</td>\n",
       "    </tr>\n",
       "    <tr>\n",
       "      <th>4</th>\n",
       "      <td>3170.000000</td>\n",
       "      <td>1</td>\n",
       "      <td>0</td>\n",
       "      <td>0</td>\n",
       "      <td>0</td>\n",
       "      <td>1.0</td>\n",
       "      <td>0</td>\n",
       "      <td>0</td>\n",
       "      <td>0</td>\n",
       "      <td>1</td>\n",
       "      <td>...</td>\n",
       "      <td>0</td>\n",
       "      <td>0</td>\n",
       "      <td>0</td>\n",
       "      <td>0</td>\n",
       "      <td>0</td>\n",
       "      <td>0</td>\n",
       "      <td>0</td>\n",
       "      <td>0</td>\n",
       "      <td>0</td>\n",
       "      <td>0</td>\n",
       "    </tr>\n",
       "  </tbody>\n",
       "</table>\n",
       "<p>5 rows × 84 columns</p>\n",
       "</div>"
      ],
      "text/plain": [
       "   PayloadMass  Flights  GridFins  Reused  Legs  Block  ReusedCount  Class  \\\n",
       "0  6104.959412        1         0       0     0    1.0            0      0   \n",
       "1   525.000000        1         0       0     0    1.0            0      0   \n",
       "2   677.000000        1         0       0     0    1.0            0      0   \n",
       "3   500.000000        1         0       0     0    1.0            0      0   \n",
       "4  3170.000000        1         0       0     0    1.0            0      0   \n",
       "\n",
       "   Orbit_GEO  Orbit_GTO  ...  Serial_B1056  Serial_B1058  Serial_B1059  \\\n",
       "0          0          0  ...             0             0             0   \n",
       "1          0          0  ...             0             0             0   \n",
       "2          0          0  ...             0             0             0   \n",
       "3          0          0  ...             0             0             0   \n",
       "4          0          1  ...             0             0             0   \n",
       "\n",
       "   Serial_B1060  Serial_B1062  5e9e3032383ecb267a34e7c7  \\\n",
       "0             0             0                         0   \n",
       "1             0             0                         0   \n",
       "2             0             0                         0   \n",
       "3             0             0                         0   \n",
       "4             0             0                         0   \n",
       "\n",
       "   5e9e3032383ecb554034e7c9  5e9e3032383ecb6bb234e7ca  \\\n",
       "0                         0                         0   \n",
       "1                         0                         0   \n",
       "2                         0                         0   \n",
       "3                         0                         0   \n",
       "4                         0                         0   \n",
       "\n",
       "   5e9e3032383ecb761634e7cb  5e9e3033383ecbb9e534e7cc  \n",
       "0                         0                         0  \n",
       "1                         0                         0  \n",
       "2                         0                         0  \n",
       "3                         0                         0  \n",
       "4                         0                         0  \n",
       "\n",
       "[5 rows x 84 columns]"
      ]
     },
     "execution_count": 3,
     "metadata": {},
     "output_type": "execute_result"
    }
   ],
   "source": [
    "data.head()"
   ]
  },
  {
   "cell_type": "code",
   "execution_count": 4,
   "id": "f92b4da3",
   "metadata": {
    "scrolled": true
   },
   "outputs": [
    {
     "name": "stdout",
     "output_type": "stream",
     "text": [
      "<class 'pandas.core.frame.DataFrame'>\n",
      "RangeIndex: 90 entries, 0 to 89\n",
      "Data columns (total 84 columns):\n",
      " #   Column                    Non-Null Count  Dtype  \n",
      "---  ------                    --------------  -----  \n",
      " 0   PayloadMass               90 non-null     float64\n",
      " 1   Flights                   90 non-null     int64  \n",
      " 2   GridFins                  90 non-null     int64  \n",
      " 3   Reused                    90 non-null     int64  \n",
      " 4   Legs                      90 non-null     int64  \n",
      " 5   Block                     90 non-null     float64\n",
      " 6   ReusedCount               90 non-null     int64  \n",
      " 7   Class                     90 non-null     int64  \n",
      " 8   Orbit_GEO                 90 non-null     int64  \n",
      " 9   Orbit_GTO                 90 non-null     int64  \n",
      " 10  Orbit_HEO                 90 non-null     int64  \n",
      " 11  Orbit_ISS                 90 non-null     int64  \n",
      " 12  Orbit_LEO                 90 non-null     int64  \n",
      " 13  Orbit_MEO                 90 non-null     int64  \n",
      " 14  Orbit_PO                  90 non-null     int64  \n",
      " 15  Orbit_SO                  90 non-null     int64  \n",
      " 16  Orbit_SSO                 90 non-null     int64  \n",
      " 17  Orbit_VLEO                90 non-null     int64  \n",
      " 18  LaunchSite_KSC LC 39A     90 non-null     int64  \n",
      " 19  LaunchSite_VAFB SLC 4E    90 non-null     int64  \n",
      " 20  Outcome_False Ocean       90 non-null     int64  \n",
      " 21  Outcome_False RTLS        90 non-null     int64  \n",
      " 22  Outcome_None ASDS         90 non-null     int64  \n",
      " 23  Outcome_None None         90 non-null     int64  \n",
      " 24  Outcome_True ASDS         90 non-null     int64  \n",
      " 25  Outcome_True Ocean        90 non-null     int64  \n",
      " 26  Outcome_True RTLS         90 non-null     int64  \n",
      " 27  Serial_B0005              90 non-null     int64  \n",
      " 28  Serial_B0007              90 non-null     int64  \n",
      " 29  Serial_B1003              90 non-null     int64  \n",
      " 30  Serial_B1004              90 non-null     int64  \n",
      " 31  Serial_B1005              90 non-null     int64  \n",
      " 32  Serial_B1006              90 non-null     int64  \n",
      " 33  Serial_B1007              90 non-null     int64  \n",
      " 34  Serial_B1008              90 non-null     int64  \n",
      " 35  Serial_B1010              90 non-null     int64  \n",
      " 36  Serial_B1011              90 non-null     int64  \n",
      " 37  Serial_B1012              90 non-null     int64  \n",
      " 38  Serial_B1013              90 non-null     int64  \n",
      " 39  Serial_B1015              90 non-null     int64  \n",
      " 40  Serial_B1016              90 non-null     int64  \n",
      " 41  Serial_B1017              90 non-null     int64  \n",
      " 42  Serial_B1018              90 non-null     int64  \n",
      " 43  Serial_B1019              90 non-null     int64  \n",
      " 44  Serial_B1020              90 non-null     int64  \n",
      " 45  Serial_B1021              90 non-null     int64  \n",
      " 46  Serial_B1022              90 non-null     int64  \n",
      " 47  Serial_B1023              90 non-null     int64  \n",
      " 48  Serial_B1025              90 non-null     int64  \n",
      " 49  Serial_B1026              90 non-null     int64  \n",
      " 50  Serial_B1028              90 non-null     int64  \n",
      " 51  Serial_B1029              90 non-null     int64  \n",
      " 52  Serial_B1030              90 non-null     int64  \n",
      " 53  Serial_B1031              90 non-null     int64  \n",
      " 54  Serial_B1032              90 non-null     int64  \n",
      " 55  Serial_B1034              90 non-null     int64  \n",
      " 56  Serial_B1035              90 non-null     int64  \n",
      " 57  Serial_B1036              90 non-null     int64  \n",
      " 58  Serial_B1037              90 non-null     int64  \n",
      " 59  Serial_B1038              90 non-null     int64  \n",
      " 60  Serial_B1039              90 non-null     int64  \n",
      " 61  Serial_B1040              90 non-null     int64  \n",
      " 62  Serial_B1041              90 non-null     int64  \n",
      " 63  Serial_B1042              90 non-null     int64  \n",
      " 64  Serial_B1043              90 non-null     int64  \n",
      " 65  Serial_B1044              90 non-null     int64  \n",
      " 66  Serial_B1045              90 non-null     int64  \n",
      " 67  Serial_B1046              90 non-null     int64  \n",
      " 68  Serial_B1047              90 non-null     int64  \n",
      " 69  Serial_B1048              90 non-null     int64  \n",
      " 70  Serial_B1049              90 non-null     int64  \n",
      " 71  Serial_B1050              90 non-null     int64  \n",
      " 72  Serial_B1051              90 non-null     int64  \n",
      " 73  Serial_B1054              90 non-null     int64  \n",
      " 74  Serial_B1056              90 non-null     int64  \n",
      " 75  Serial_B1058              90 non-null     int64  \n",
      " 76  Serial_B1059              90 non-null     int64  \n",
      " 77  Serial_B1060              90 non-null     int64  \n",
      " 78  Serial_B1062              90 non-null     int64  \n",
      " 79  5e9e3032383ecb267a34e7c7  90 non-null     int64  \n",
      " 80  5e9e3032383ecb554034e7c9  90 non-null     int64  \n",
      " 81  5e9e3032383ecb6bb234e7ca  90 non-null     int64  \n",
      " 82  5e9e3032383ecb761634e7cb  90 non-null     int64  \n",
      " 83  5e9e3033383ecbb9e534e7cc  90 non-null     int64  \n",
      "dtypes: float64(2), int64(82)\n",
      "memory usage: 59.2 KB\n"
     ]
    }
   ],
   "source": [
    "data.info()"
   ]
  },
  {
   "cell_type": "markdown",
   "id": "b63aaba7",
   "metadata": {},
   "source": [
    "## input and target"
   ]
  },
  {
   "cell_type": "code",
   "execution_count": 5,
   "id": "1c83ff96",
   "metadata": {},
   "outputs": [],
   "source": [
    "x = data.drop([\"Class\"], axis= 1)\n",
    "y = data[\"Class\"]"
   ]
  },
  {
   "cell_type": "markdown",
   "id": "639bea0a",
   "metadata": {},
   "source": [
    "## scaling data"
   ]
  },
  {
   "cell_type": "code",
   "execution_count": 6,
   "id": "d0077b07",
   "metadata": {},
   "outputs": [],
   "source": [
    "from sklearn.preprocessing import StandardScaler\n",
    "\n",
    "scaler = StandardScaler()\n",
    "x_scaled = scaler.fit_transform(x)"
   ]
  },
  {
   "cell_type": "markdown",
   "id": "414074dd",
   "metadata": {},
   "source": [
    "## Train Test split"
   ]
  },
  {
   "cell_type": "code",
   "execution_count": 7,
   "id": "1d198791",
   "metadata": {},
   "outputs": [],
   "source": [
    "from sklearn.model_selection import train_test_split\n",
    "x_train, x_test, y_train , y_test = train_test_split(x_scaled, y, test_size= 0.3, random_state= 101)"
   ]
  },
  {
   "cell_type": "markdown",
   "id": "16ee3818",
   "metadata": {},
   "source": [
    "## ML Algorithm"
   ]
  },
  {
   "cell_type": "code",
   "execution_count": 8,
   "id": "be49e94a",
   "metadata": {
    "scrolled": false
   },
   "outputs": [
    {
     "data": {
      "image/png": "[encoded data removed]",
      "text/plain": [
       "<Figure size 432x288 with 2 Axes>"
      ]
     },
     "metadata": {
      "needs_background": "light"
     },
     "output_type": "display_data"
    },
    {
     "data": {
      "image/png": "[encoded data removed]",
      "text/plain": [
       "<Figure size 432x288 with 2 Axes>"
      ]
     },
     "metadata": {
      "needs_background": "light"
     },
     "output_type": "display_data"
    },
    {
     "data": {
      "image/png": "[encoded data removed]",
      "text/plain": [
       "<Figure size 432x288 with 2 Axes>"
      ]
     },
     "metadata": {
      "needs_background": "light"
     },
     "output_type": "display_data"
    },
    {
     "data": {
      "image/png": "[encoded data removed]",
      "text/plain": [
       "<Figure size 432x288 with 2 Axes>"
      ]
     },
     "metadata": {
      "needs_background": "light"
     },
     "output_type": "display_data"
    },
    {
     "data": {
      "image/png": "[encoded data removed]",
      "text/plain": [
       "<Figure size 432x288 with 2 Axes>"
      ]
     },
     "metadata": {
      "needs_background": "light"
     },
     "output_type": "display_data"
    },
    {
     "data": {
      "image/png": "[encoded data removed]",
      "text/plain": [
       "<Figure size 432x288 with 2 Axes>"
      ]
     },
     "metadata": {
      "needs_background": "light"
     },
     "output_type": "display_data"
    },
    {
     "data": {
      "image/png": "[encoded data removed]",
      "text/plain": [
       "<Figure size 432x288 with 2 Axes>"
      ]
     },
     "metadata": {
      "needs_background": "light"
     },
     "output_type": "display_data"
    }
   ],
   "source": [
    "logreg = LogisticRegression()\n",
    "tree = DecisionTreeClassifier()\n",
    "svm = SVC()\n",
    "knn = KNeighborsClassifier()\n",
    "rf = RandomForestClassifier()\n",
    "adb = AdaBoostClassifier()\n",
    "gnb = GaussianNB()\n",
    "\n",
    "clf = [logreg, tree, svm, knn, rf, adb, gnb]\n",
    "\n",
    "parameters_logreg = {'C':[0.01,0.001,0.1, 1, 10]}\n",
    "parameters_tree ={'criterion': [\"gini\", \"entropy\"], 'min_samples_split':[2, 4 ,6], 'min_samples_leaf':[1, 3, 5] }\n",
    "parameters_svm = {'kernel':['linear', 'rbf' ,'sigmoid'], 'C':[0.1, 1, 10], 'gamma' : [0.001, 0.01, 1] }\n",
    "parameters_knn = { 'n_neighbors': [5, 10, 15], 'algorithm': ['auto', 'ball_tree', 'kd_tree', 'brute'], 'p':[1,2] }\n",
    "parameters_rf = {'n_estimators':[50,100, 150], 'min_samples_split':[2, 4 ,6], 'min_samples_leaf':[1, 3, 5]}\n",
    "parameters_adb = {'n_estimators':[30,50, 80], 'learning_rate':[0.7, 1]}\n",
    "parameters_gnb ={}\n",
    "\n",
    "parameters = [parameters_logreg, parameters_tree, parameters_svm, parameters_knn, parameters_rf, parameters_adb, parameters_gnb]\n",
    "keys = [\"log_regression\", \"DecisionTree\", \"SVC\", \"KNN\", \"RandomForest\", \"Adaboost\", \"GaussianNB\"]\n",
    "\n",
    "best_params = []\n",
    "accuracy = []\n",
    "\n",
    "\n",
    "for i in range(7):\n",
    "    clf_cv = GridSearchCV(clf[i], parameters[i], refit= True)\n",
    "    clf_cv.fit(x_train, y_train)\n",
    "    best_params.append(clf_cv.best_params_)\n",
    "    accuracy.append(clf_cv.score(x_test, y_test))\n",
    "    \n",
    "    ConfusionMatrixDisplay.from_estimator(clf_cv, x_test, y_test)\n",
    "    plt.title(f\"Confusion Matrix-{keys[i]}\")\n",
    "    plt.show()\n",
    "     \n"
   ]
  },
  {
   "cell_type": "code",
   "execution_count": 9,
   "id": "1527f9a5",
   "metadata": {},
   "outputs": [
    {
     "name": "stdout",
     "output_type": "stream",
     "text": [
      "accuracy for each model: \n",
      " {'log_regression': 0.9259259259259259, 'DecisionTree': 0.8888888888888888, 'SVC': 0.8888888888888888, 'KNN': 0.8518518518518519, 'RandomForest': 0.8518518518518519, 'Adaboost': 1.0, 'GaussianNB': 0.8518518518518519}\n"
     ]
    }
   ],
   "source": [
    "accuracy_dict = dict(zip(keys, accuracy))\n",
    "\n",
    "print(f\"accuracy for each model: \\n {accuracy_dict}\") "
   ]
  },
  {
   "cell_type": "code",
   "execution_count": 10,
   "id": "46b1993b",
   "metadata": {},
   "outputs": [
    {
     "name": "stdout",
     "output_type": "stream",
     "text": [
      "tuned parameters for each model: \n",
      " {'log_regression': {'C': 10}, 'DecisionTree': {'criterion': 'entropy', 'min_samples_leaf': 1, 'min_samples_split': 2}, 'SVC': {'C': 1, 'gamma': 0.01, 'kernel': 'rbf'}, 'KNN': {'algorithm': 'auto', 'n_neighbors': 5, 'p': 1}, 'RandomForest': {'min_samples_leaf': 1, 'min_samples_split': 6, 'n_estimators': 150}, 'Adaboost': {'learning_rate': 0.7, 'n_estimators': 30}, 'GaussianNB': {}}\n"
     ]
    }
   ],
   "source": [
    "best_parameters_dict = dict(zip(keys, best_params))\n",
    "print(f\"tuned parameters for each model: \\n {best_parameters_dict}\") "
   ]
  },
  {
   "cell_type": "code",
   "execution_count": 11,
   "id": "be9331c8",
   "metadata": {},
   "outputs": [
    {
     "data": {
      "image/png": "[encoded data removed]",
      "text/plain": [
       "<Figure size 864x360 with 1 Axes>"
      ]
     },
     "metadata": {
      "needs_background": "light"
     },
     "output_type": "display_data"
    }
   ],
   "source": [
    "plt.figure(figsize=(12,5))\n",
    "plt.bar(keys,accuracy, color =(0.6, 0.5, 0.7))\n",
    "plt.xlabel(\"Methods\")\n",
    "plt.ylabel(\"Accuracy\")\n",
    "plt.title(\"Best Perfomed Method\")\n",
    "plt.show()"
   ]
  },
  {
   "cell_type": "markdown",
   "id": "393c190a",
   "metadata": {},
   "source": [
    "## save and load the best Model using pickle"
   ]
  },
  {
   "cell_type": "code",
   "execution_count": 12,
   "id": "97f80f42",
   "metadata": {},
   "outputs": [],
   "source": [
    "import pickle\n",
    "\n",
    "logreg_cv = GridSearchCV(clf[0], parameters[0])\n",
    "logreg_cv.fit(x_train, y_train)\n",
    "\n",
    "with open (\"model_1.pkl\" , \"wb\") as file:\n",
    "    pickle.dump(logreg_cv, file)"
   ]
  },
  {
   "cell_type": "code",
   "execution_count": 13,
   "id": "63dcd1c1",
   "metadata": {},
   "outputs": [],
   "source": [
    "import pickle\n",
    "\n",
    "Adaboost_cv = GridSearchCV(clf[5], parameters[5])\n",
    "Adaboost_cv.fit(x_train, y_train)\n",
    "\n",
    "with open (\"model_2.pkl\" , \"wb\") as file:\n",
    "    pickle.dump(Adaboost_cv, file)"
   ]
  },
  {
   "cell_type": "markdown",
   "id": "82d761c4",
   "metadata": {},
   "source": [
    "## Receiver Operating Characteristic (ROC) Curve"
   ]
  },
  {
   "cell_type": "code",
   "execution_count": 14,
   "id": "cefccc3e",
   "metadata": {},
   "outputs": [
    {
     "data": {
      "image/png": "[encoded data removed]",
      "text/plain": [
       "<Figure size 432x288 with 1 Axes>"
      ]
     },
     "metadata": {
      "needs_background": "light"
     },
     "output_type": "display_data"
    }
   ],
   "source": [
    "from sklearn.metrics import RocCurveDisplay\n",
    "RocCurveDisplay.from_estimator(Adaboost_cv, x_test, y_test)\n",
    "plt.plot([0,1], [0,1])\n",
    "plt.title('Area Under ROC')\n",
    "plt.show()"
   ]
  },
  {
   "cell_type": "code",
   "execution_count": 15,
   "id": "7e36c8a6",
   "metadata": {},
   "outputs": [
    {
     "data": {
      "image/png": "[encoded data removed]",
      "text/plain": [
       "<Figure size 432x288 with 1 Axes>"
      ]
     },
     "metadata": {
      "needs_background": "light"
     },
     "output_type": "display_data"
    }
   ],
   "source": [
    "from sklearn.metrics import RocCurveDisplay\n",
    "RocCurveDisplay.from_estimator(logreg_cv, x_test, y_test)\n",
    "plt.plot([0,1], [0,1])\n",
    "plt.title('Area Under ROC')\n",
    "plt.show()"
   ]
  },
  {
   "cell_type": "code",
   "execution_count": 19,
   "id": "b91514df",
   "metadata": {},
   "outputs": [
    {
     "data": {
      "text/plain": [
       "0.9090909090909091"
      ]
     },
     "execution_count": 19,
     "metadata": {},
     "output_type": "execute_result"
    }
   ],
   "source": [
    "from sklearn.metrics import roc_auc_score\n",
    "\n",
    "roc_auc_score(y_test, logreg_cv.predict(x_test))"
   ]
  },
  {
   "cell_type": "code",
   "execution_count": 25,
   "id": "f5ccc20b",
   "metadata": {},
   "outputs": [
    {
     "data": {
      "text/plain": [
       "0.8977272727272727"
      ]
     },
     "execution_count": 25,
     "metadata": {},
     "output_type": "execute_result"
    }
   ],
   "source": [
    "roc_auc_score(y_test, logreg_cv.predict_proba(x_test)[:, 1])"
   ]
  },
  {
   "cell_type": "code",
   "execution_count": null,
   "id": "9b5910b0",
   "metadata": {},
   "outputs": [],
   "source": []
  }
 ],
 "metadata": {
  "kernelspec": {
   "display_name": "Python 3 (ipykernel)",
   "language": "python",
   "name": "python3"
  },
  "language_info": {
   "codemirror_mode": {
    "name": "ipython",
    "version": 3
   },
   "file_extension": ".py",
   "mimetype": "text/x-python",
   "name": "python",
   "nbconvert_exporter": "python",
   "pygments_lexer": "ipython3",
   "version": "3.9.12"
  }
 },
 "nbformat": 4,
 "nbformat_minor": 5
}
